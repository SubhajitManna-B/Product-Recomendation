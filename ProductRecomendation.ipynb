{
  "nbformat": 4,
  "nbformat_minor": 0,
  "metadata": {
    "colab": {
      "provenance": [],
      "authorship_tag": "ABX9TyMB4aV1XW+cTesqmHcXV0eI",
      "include_colab_link": true
    },
    "kernelspec": {
      "name": "python3",
      "display_name": "Python 3"
    },
    "language_info": {
      "name": "python"
    }
  },
  "cells": [
    {
      "cell_type": "markdown",
      "metadata": {
        "id": "view-in-github",
        "colab_type": "text"
      },
      "source": [
        "<a href=\"https://colab.research.google.com/github/SubhajitManna-B/Product-Recomendation/blob/main/ProductRecomendation.ipynb\" target=\"_parent\"><img src=\"https://colab.research.google.com/assets/colab-badge.svg\" alt=\"Open In Colab\"/></a>"
      ]
    },
    {
      "cell_type": "code",
      "source": [
        "# Install Surprise and necessary libraries\n",
        "!pip install scikit-surprise\n",
        "\n",
        "import pandas as pd\n",
        "import matplotlib.pyplot as plt\n",
        "from surprise import Dataset, Reader, SVD\n",
        "from surprise.model_selection import train_test_split\n",
        "from surprise import accuracy  # Fix the import\n",
        "\n",
        "# Download and load the dataset\n",
        "!wget http://files.grouplens.org/datasets/movielens/ml-latest-small.zip\n",
        "!unzip ml-latest-small.zip\n",
        "ratings = pd.read_csv('ml-latest-small/ratings.csv')\n",
        "movies = pd.read_csv('ml-latest-small/movies.csv')\n",
        "\n",
        "# Explore the dataset\n",
        "print(ratings.head())\n",
        "ratings['rating'].hist(bins=10)\n",
        "plt.xlabel('Rating')\n",
        "plt.ylabel('Frequency')\n",
        "plt.show()\n",
        "\n",
        "# Build a collaborative filtering model (SVD)\n",
        "reader = Reader(rating_scale=(0.5, 5.0))\n",
        "data = Dataset.load_from_df(ratings[['userId', 'movieId', 'rating']], reader)\n",
        "trainset, testset = train_test_split(data, test_size=0.25)\n",
        "model = SVD()\n",
        "model.fit(trainset)\n",
        "predictions = model.test(testset)\n",
        "print(f'RMSE: {accuracy.rmse(predictions)}')  # Fix the accuracy calculation\n",
        "\n",
        "# Get top 10 recommendations for the first user\n",
        "def get_top_n_recommendations(predictions, n=10):\n",
        "    from collections import defaultdict\n",
        "    top_n = defaultdict(list)\n",
        "    for uid, iid, true_r, est, _ in predictions:\n",
        "        top_n[uid].append((iid, est))\n",
        "    for uid, user_ratings in top_n.items():\n",
        "        user_ratings.sort(key=lambda x: x[1], reverse=True)\n",
        "        top_n[uid] = user_ratings[:n]\n",
        "    return top_n\n",
        "\n",
        "top_n = get_top_n_recommendations(predictions, n=10)\n",
        "user_id = list(top_n.keys())[0]\n",
        "print(f\"Top 10 recommendations for User {user_id}:\")\n",
        "for movie_id, rating in top_n[user_id]:\n",
        "    print(f\"MovieId: {movie_id}, Estimated Rating: {rating}\")"
      ],
      "metadata": {
        "colab": {
          "base_uri": "https://localhost:8080/",
          "height": 1000
        },
        "id": "tbWRouuU8L0J",
        "outputId": "fbafc534-c9f3-416e-9a50-8e726cb1e544"
      },
      "execution_count": null,
      "outputs": [
        {
          "output_type": "stream",
          "name": "stdout",
          "text": [
            "Requirement already satisfied: scikit-surprise in /usr/local/lib/python3.10/dist-packages (1.1.4)\n",
            "Requirement already satisfied: joblib>=1.2.0 in /usr/local/lib/python3.10/dist-packages (from scikit-surprise) (1.4.2)\n",
            "Requirement already satisfied: numpy>=1.19.5 in /usr/local/lib/python3.10/dist-packages (from scikit-surprise) (1.26.4)\n",
            "Requirement already satisfied: scipy>=1.6.0 in /usr/local/lib/python3.10/dist-packages (from scikit-surprise) (1.13.1)\n",
            "--2024-10-22 15:55:44--  http://files.grouplens.org/datasets/movielens/ml-latest-small.zip\n",
            "Resolving files.grouplens.org (files.grouplens.org)... 128.101.65.152\n",
            "Connecting to files.grouplens.org (files.grouplens.org)|128.101.65.152|:80... connected.\n",
            "HTTP request sent, awaiting response... 200 OK\n",
            "Length: 978202 (955K) [application/zip]\n",
            "Saving to: ‘ml-latest-small.zip’\n",
            "\n",
            "ml-latest-small.zip 100%[===================>] 955.28K  1.47MB/s    in 0.6s    \n",
            "\n",
            "2024-10-22 15:55:45 (1.47 MB/s) - ‘ml-latest-small.zip’ saved [978202/978202]\n",
            "\n",
            "Archive:  ml-latest-small.zip\n",
            "   creating: ml-latest-small/\n",
            "  inflating: ml-latest-small/links.csv  \n",
            "  inflating: ml-latest-small/tags.csv  \n",
            "  inflating: ml-latest-small/ratings.csv  \n",
            "  inflating: ml-latest-small/README.txt  \n",
            "  inflating: ml-latest-small/movies.csv  \n",
            "   userId  movieId  rating  timestamp\n",
            "0       1        1     4.0  964982703\n",
            "1       1        3     4.0  964981247\n",
            "2       1        6     4.0  964982224\n",
            "3       1       47     5.0  964983815\n",
            "4       1       50     5.0  964982931\n"
          ]
        },
        {
          "output_type": "display_data",
          "data": {
            "text/plain": [
              "<Figure size 640x480 with 1 Axes>"
            ],
            "image/png": "[encoded data removed]"
          },
          "metadata": {}
        },
        {
          "output_type": "stream",
          "name": "stdout",
          "text": [
            "RMSE: 0.8765\n",
            "RMSE: 0.8764503297710939\n",
            "Top 10 recommendations for User 28:\n",
            "MovieId: 318, Estimated Rating: 3.7441321986911413\n",
            "MovieId: 2329, Estimated Rating: 3.7341649362324807\n",
            "MovieId: 2571, Estimated Rating: 3.7161172734564927\n",
            "MovieId: 1210, Estimated Rating: 3.6567451452026445\n",
            "MovieId: 778, Estimated Rating: 3.5968860591981144\n",
            "MovieId: 1641, Estimated Rating: 3.5134628522085007\n",
            "MovieId: 33794, Estimated Rating: 3.5128036057815955\n",
            "MovieId: 529, Estimated Rating: 3.4913890543855524\n",
            "MovieId: 356, Estimated Rating: 3.479928528999486\n",
            "MovieId: 3949, Estimated Rating: 3.465869694776198\n"
          ]
        }
      ]
    }
  ]
}